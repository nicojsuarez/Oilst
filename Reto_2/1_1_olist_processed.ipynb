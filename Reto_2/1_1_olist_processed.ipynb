{
 "cells": [
  {
   "cell_type": "code",
   "execution_count": 6,
   "metadata": {},
   "outputs": [],
   "source": [
    "#Creacion de las rutas \n",
    "\n",
    "import os\n",
    "import numpy as np\n",
    "import pandas as pd\n",
    "\n",
    "import warnings\n",
    "warnings.filterwarnings('ignore')\n",
    "\n",
    "DATA_PATH = r'C:\\Users\\Administrador\\Desktop\\DATos\\Ciclo 1\\Recursos DN_COM_58'\n",
    "\n",
    "FILE_CUSTOMERS = 'olist_customers_dataset.xlsx'\n",
    "FILE_GEOLOCATIONS = 'olist_geolocation_dataset.csv'\n",
    "\n",
    "### completa los nombres del resto de los archivos con su extesion (ejemplo .csv) ...\n",
    "FILE_ITEMS =  'olist_order_items_dataset.csv'\n",
    "FILE_PAYMENTS = 'olist_order_payments_dataset.csv'\n",
    "FILE_ORDERS = 'olist_orders_dataset.csv'\n",
    "FILE_STATES_ABBREVIATIONS = 'states_abbreviations.json'\n"
   ]
  },
  {
   "cell_type": "code",
   "execution_count": 7,
   "metadata": {},
   "outputs": [],
   "source": [
    "geolocations = pd.read_csv(\n",
    "    os.path.join(DATA_PATH, FILE_GEOLOCATIONS),\n",
    "    dtype={'geolocation_zip_code_prefix': 'str'}\n",
    "    )"
   ]
  },
  {
   "cell_type": "code",
   "execution_count": 12,
   "metadata": {},
   "outputs": [
    {
     "name": "stderr",
     "output_type": "stream",
     "text": [
      "\n",
      "[notice] A new release of pip is available: 23.3.2 -> 24.0\n",
      "[notice] To update, run: python.exe -m pip install --upgrade pip\n"
     ]
    },
    {
     "name": "stdout",
     "output_type": "stream",
     "text": [
      "Requirement already satisfied: openpyxl in c:\\users\\administrador\\appdata\\local\\programs\\python\\python310\\lib\\site-packages (3.1.2)\n",
      "Requirement already satisfied: et-xmlfile in c:\\users\\administrador\\appdata\\local\\programs\\python\\python310\\lib\\site-packages (from openpyxl) (1.1.0)\n",
      "Note: you may need to restart the kernel to use updated packages.\n"
     ]
    }
   ],
   "source": [
    "%pip install openpyxl\n",
    "customers = pd.read_excel(\n",
    "    os.path.join(DATA_PATH, FILE_CUSTOMERS),\n",
    "    engine='openpyxl',\n",
    "    # Especificar el tipo de dato de customer_zip_code_prefix\n",
    "    dtype={'customer_zip_code_prefix':'str'} \n",
    "    )\n",
    "\n",
    "items = pd.read_csv(\n",
    "    os.path.join(DATA_PATH, FILE_ITEMS)\n",
    "    )\n",
    "\n",
    "items_agg = items.groupby(\n",
    "    ['order_id']).agg(\n",
    "        # conteo de producto\n",
    "        {'order_item_id': 'count',\n",
    "        # suma de los precios de los artículos\n",
    "        'price': 'sum'}\n",
    "                      ).reset_index() \n",
    "items_agg.rename(\n",
    "    columns={'order_item_id': 'total_products', 'price': 'total_sales'},\n",
    "    inplace=True\n",
    "    )\n",
    "\n",
    "payments = pd.read_csv(\n",
    "    os.path.join(DATA_PATH, FILE_PAYMENTS)\n",
    "    )\n",
    "\n",
    "states_abbreviations = pd.read_json(\n",
    "     os.path.join(DATA_PATH, FILE_STATES_ABBREVIATIONS))\n",
    "\n",
    "orders = pd.read_csv(\n",
    "     os.path.join(DATA_PATH, FILE_ORDERS))\n",
    "## convierte order_purchase_timestamp\n",
    "orders['order_purchase_timestamp'] = pd.to_datetime(orders['order_purchase_timestamp'], errors='coerce' )\n",
    "\n",
    "# order_approved_at\n",
    "orders['order_approved_at'] = pd.to_datetime(orders['order_approved_at'], errors='coerce' )\n",
    "\n",
    "# order_delivered_carrier_date\n",
    "orders['order_delivered_carrier_date'] = pd.to_datetime(orders['order_delivered_carrier_date'], errors='coerce' )\n",
    "\n",
    "# order_delivered_customer_date\n",
    "orders['order_delivered_customer_date'] = pd.to_datetime(orders['order_delivered_customer_date'], errors='coerce' )\n",
    "\n",
    "# order_estimated_delivery_date\n",
    "orders['order_estimated_delivery_date'] = pd.to_datetime(orders['order_estimated_delivery_date'], errors='coerce' )"
   ]
  },
  {
   "cell_type": "code",
   "execution_count": 13,
   "metadata": {},
   "outputs": [],
   "source": [
    "orders['delta_days'] = (\n",
    "    orders['order_delivered_customer_date'] -\n",
    "    orders['order_estimated_delivery_date']\n",
    "    ).dt.total_seconds()/ 60 / 60 / 24\n",
    "\n",
    "orders['delay_status']  = np.where(\n",
    "    orders['delta_days'] > 3, 'long_delay',\n",
    "    np.where(orders['delta_days'] <= 0, 'on_time','short_delay')\n",
    "    )"
   ]
  },
  {
   "cell_type": "code",
   "execution_count": 15,
   "metadata": {},
   "outputs": [
    {
     "data": {
      "text/html": [
       "<div>\n",
       "<style scoped>\n",
       "    .dataframe tbody tr th:only-of-type {\n",
       "        vertical-align: middle;\n",
       "    }\n",
       "\n",
       "    .dataframe tbody tr th {\n",
       "        vertical-align: top;\n",
       "    }\n",
       "\n",
       "    .dataframe thead th {\n",
       "        text-align: right;\n",
       "    }\n",
       "</style>\n",
       "<table border=\"1\" class=\"dataframe\">\n",
       "  <thead>\n",
       "    <tr style=\"text-align: right;\">\n",
       "      <th></th>\n",
       "      <th>geolocation_zip_code_prefix</th>\n",
       "      <th>geolocation_lat</th>\n",
       "      <th>geolocation_lng</th>\n",
       "      <th>geolocation_city</th>\n",
       "      <th>geolocation_state</th>\n",
       "    </tr>\n",
       "  </thead>\n",
       "  <tbody>\n",
       "  </tbody>\n",
       "</table>\n",
       "</div>"
      ],
      "text/plain": [
       "Empty DataFrame\n",
       "Columns: [geolocation_zip_code_prefix, geolocation_lat, geolocation_lng, geolocation_city, geolocation_state]\n",
       "Index: []"
      ]
     },
     "execution_count": 15,
     "metadata": {},
     "output_type": "execute_result"
    }
   ],
   "source": [
    "geolocations.query(\"geolocation_zip_code_prefix == 24220\")\n",
    "unique_geolocations = geolocations.drop_duplicates(\n",
    "    subset = ['geolocation_zip_code_prefix']\n",
    "    )\n",
    "unique_geolocations.query(\n",
    "    \"geolocation_zip_code_prefix == 24220\"\n",
    "    )"
   ]
  },
  {
   "cell_type": "code",
   "execution_count": 20,
   "metadata": {},
   "outputs": [
    {
     "data": {
      "text/plain": [
       "Index(['order_id', 'customer_id', 'order_status', 'order_purchase_timestamp',\n",
       "       'order_approved_at', 'order_delivered_carrier_date',\n",
       "       'order_delivered_customer_date', 'order_estimated_delivery_date',\n",
       "       'distance_distribution_center', 'delta_days', 'delay_status',\n",
       "       'total_products', 'total_sales', 'customer_unique_id',\n",
       "       'customer_zip_code_prefix', 'customer_city', 'customer_state',\n",
       "       'geolocation_zip_code_prefix', 'geolocation_lat', 'geolocation_lng',\n",
       "       'geolocation_city', 'geolocation_state', 'abbreviation', 'state_name'],\n",
       "      dtype='object')"
      ]
     },
     "execution_count": 20,
     "metadata": {},
     "output_type": "execute_result"
    }
   ],
   "source": [
    "customers_geolocation = customers.merge(\n",
    "    unique_geolocations,\n",
    "    left_on='customer_zip_code_prefix',\n",
    "    right_on='geolocation_zip_code_prefix',\n",
    "    how='left'\n",
    ")\n",
    "customers_geolocation.columns\n",
    "\n",
    "customers_geolocation_estado = customers_geolocation.merge(\n",
    "    states_abbreviations,\n",
    "    left_on='geolocation_state',\n",
    "    right_on='abbreviation',\n",
    "    how='left'\n",
    ")\n",
    "orders_totals = orders.merge(\n",
    "    items_agg,\n",
    "    on=['order_id'],\n",
    "    how='left'\n",
    "    )\n",
    "\n",
    "results = orders_totals.merge(\n",
    "    customers_geolocation_estado,\n",
    "    on=['customer_id'],\n",
    "    how='left'\n",
    "    )\n",
    "results.columns"
   ]
  },
  {
   "cell_type": "code",
   "execution_count": null,
   "metadata": {},
   "outputs": [],
   "source": [
    "# Completa el codigo\n",
    "results.to_csv(\n",
    "    # nombre del archivo\n",
    "    'oilst_processed.csv',\n",
    "    # flag para no escribir el indice del dataframe al csv\n",
    "    index=False\n",
    "    )"
   ]
  }
 ],
 "metadata": {
  "kernelspec": {
   "display_name": "Python 3",
   "language": "python",
   "name": "python3"
  },
  "language_info": {
   "codemirror_mode": {
    "name": "ipython",
    "version": 3
   },
   "file_extension": ".py",
   "mimetype": "text/x-python",
   "name": "python",
   "nbconvert_exporter": "python",
   "pygments_lexer": "ipython3",
   "version": "3.10.10"
  }
 },
 "nbformat": 4,
 "nbformat_minor": 2
}
